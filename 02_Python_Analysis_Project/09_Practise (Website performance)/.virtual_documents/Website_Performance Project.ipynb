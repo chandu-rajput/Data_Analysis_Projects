import numpy as np
import pandas as pd
import matplotlib.pyplot as plt
import seaborn as sns


df = pd.read_csv('data-export.csv')


df.head()


# df.columns = df.iloc[0] --We can use this to make our 1 row into column headers
df.columns = ["channel group", "DateHour", "Users", "Sessions", "Engaged Sessions", "Average engagement time per session", "Engaged seassions per user", "Events per session", "Engagement rate", "Event count"]
df = df.drop(index = 0).reset_index(drop = True)


df.head()


df.info()


df['DateHour'] = pd.to_datetime(df['DateHour'], format= "%Y%m%d%H", errors='coerce')


numeric_cols = df.columns.drop(["channel group", "DateHour"])
df[numeric_cols] = df[numeric_cols].apply(pd.to_numeric, errors = 'coerce')
df['Hour'] = df['DateHour'].dt.hour


df.head()


df.info()


df.describe()





df.head()


sns.set(style="whitegrid")





# import matplotlib.dates as mdates
# group = df.groupby("DateHour")[["Sessions","Users"]].sum()

# # group.plot(figsize=(12,7))                  # 
# plt.figure(figsize=(17,7))
# sns.lineplot(data=group, x="DateHour", y="Sessions", marker="o", label="Sessions")
# sns.lineplot(data=group, x="DateHour", y="Users", marker="o", label="Users")

# ax = plt.gca()
# # Show only every 2nd hour
# ax.xaxis.set_major_locator(mdates.HourLocator(interval=1)) 

# # Select 5 evenly spaced ticks from the index
# tick_positions = group.index[::max(1, len(group)//5)]
# ax.set_xticks(tick_positions)

# plt.gca().xaxis.set_major_formatter(mdates.DateFormatter("%Y-%m-%d %H:%M"))
# plt.xticks(rotation=45) 

# plt.tight_layout()
# plt.title("Sessions and Users and Time")
# plt.xlabel("DateHour")
# plt.ylabel("Count")
# plt.show()





plt.figure(figsize=(10,5))
df.groupby("DateHour")[["Sessions","Users"]].sum().plot(ax=plt.gca())
plt.title("Sessions and users over time")
plt.xlabel("DateHour")
plt.ylabel("Count")
plt.show()

# gca = Get Current Axes
# plt.gca() is use to get current axes and to draw a graph on bases of where gca get current from it, we dont need to mention it 








plt.figure(figsize=(8,5))
sns.barplot(data=df,
            x="channel group",
            y="Users", hue="channel group",
            estimator = np.sum,
            palette="viridis")

plt.title("Total Users by Channel")
plt.xticks(rotation=45)
plt.show()








df.head()


plt.figure(figsize=(8,5))
sns.barplot(data=df,
            x="channel group",
            y="Average engagement time per session",
            estimator=np.mean,
            hue="channel group",
            palette="magma")

plt.title('Avg Enagement Time by Channel')
plt.xticks(rotation=45)
plt.show()








plt.figure(figsize=(8,5))
sns.boxplot(data=df,
            x = "channel group",
            y = "Engagement rate",
            hue = "channel group",
            palette = "coolwarm")

plt.title('Engagement Rate Distribution by Channel')
plt.xticks(rotation=45)
plt.show()








df.head()


sessions_df = df.groupby("channel group")[["Sessions","Engaged Sessions"]].sum().reset_index()
sessions_df["Non-Engaged"] = sessions_df["Sessions"] - sessions_df["Engaged Sessions"]

sessions_df_melted = sessions_df.melt(                         # .Melt is use to convert the Wide format dataframes into long format datafrmaes
    id_vars="channel group", 
    value_vars=["Engaged Sessions","Non-Engaged"],
    var_name="Session Type",
    value_name="Count"
)


sessions_df


sessions_df_melted


plt.figure(figsize=(8,5))
sns.barplot(data=sessions_df_melted,
            x= "channel group",
            y = "Count",
            hue = "Session Type")
plt.title("Engaged vs Non-Engaged Sessions")
plt.xticks(rotation=45)
plt.show()








heatmap_date = df.groupby(["Hour","channel group"])["Sessions"].sum().unstack().fillna(0)

plt.figure(figsize=(12,6))
sns.heatmap(data = heatmap_date, cmap="YlGnBu", linewidths =.5, annot = True, fmt = '.0f')
plt.title("Traffic by Hour and Channel")
plt.xlabel("channel group")
plt.ylabel("Hour of Day")
plt.show()








df.head()


df_plot = df.groupby("DateHour")[["Engagement rate", "Sessions"]].mean().reset_index()


df_plot



