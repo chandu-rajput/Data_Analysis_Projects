import pandas as pd
import matplotlib.pyplot as plt
import seaborn as sns
import plotly.express as px
import plotly.graph_objects as go
from pytrends.request import TrendReq





pytrends = TrendReq(hl = 'en-US', tz = 330)
keyword = "cloud computing"





pytrends.build_payload([keyword], cat = 0, timeframe = 'today 12-m', geo = '', gprop = '')





region_data = pytrends.interest_by_region()
region_data = region_data.sort_values(by = keyword, ascending = False).head(15)
region_data = region_data.reset_index()


region_data


plt.figure(figsize=(10,6))
sns.barplot(x = region_data[keyword], y = region_data.geoName, hue = region_data.geoName, palette = 'Blues_d')
plt.title(f"Top Countries searching for '{keyword}' ")
plt.xlabel("Interest")
plt.ylabel("Country")
plt.show()





# region_data = region_data.reset_index()
fig = px.choropleth(region_data,
                    locations = 'geoName',
                    locationmode = 'country names',
                    color = keyword,
                    title = f"Search Interest for '{keyword}' by Country",
                    color_continuous_scale= 'Blues')

fig.update_layout(
    height = 800,
    width = 1000
    )

fig.show()





time_df = pytrends.interest_over_time()


plt.figure(figsize = (12,6))
plt.plot(time_df.index, time_df[keyword], marker = 'o', color = 'purple')
plt.title(f"Search interest over time '{keyword}'")
plt.xlabel('Data')
plt.ylabel('Interest')
plt.grid(True)
plt.show()





kw_list = ["data analyst", "machine learning", "data science"]
pytrends.build_payload(kw_list, cat = 0, timeframe = 'today 12-m', geo = '', gprop = '')


compare_df = pytrends.interest_over_time()


compare_df


fig = go.Figure()

# Add one line for each keyword
for kw in kw_list:
    fig.add_trace(go.Scatter(
        x=compare_df.index,      
        y=compare_df[kw],        
        mode='lines+markers',   
        name=kw                 
    ))

# Add chart layout
fig.update_layout(
    title="Keyword Comparison Over Time",
    xaxis_title="Date",
    yaxis_title="Interest",
    legend_title="Keywords",
    template="plotly_white",
    height=600,
    width=1000
)

fig.show()  




