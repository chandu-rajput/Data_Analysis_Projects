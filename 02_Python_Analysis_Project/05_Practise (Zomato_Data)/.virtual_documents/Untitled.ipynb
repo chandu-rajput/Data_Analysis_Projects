import numpy as np
import pandas as pd
import matplotlib.pyplot as plt
import seaborn as sns


df = pd.read_csv("Zomato data .csv")


df.head()





def handRate(value):
    value = str(value).split('/')
    value = value[0]
    return float(value)

df['rate'] = df['rate'].apply(handRate)
print(df.head())


df.info()





df.head()


sns.countplot(x = df['listed_in(type)'], hue= 'listed_in(type)', palette='Set1', data = df)
plt.xlabel("Type of Resturant")
plt.show()


grouped_data = df.groupby('listed_in(type)')['votes'].sum().reset_index()
#result = pd.DataFrame({'votes':grouped_data})


grouped_data


sns.barplot(data=grouped_data, x='listed_in(type)', y='votes', palette='Set2', hue= 'listed_in(type)', legend= False)
plt.title("Votes by Restaurant Type")
plt.ylabel("Votes")
plt.xlabel("Type")
plt.xticks(rotation=30)
plt.tight_layout()
plt.show()


sns.histplot(df['rate'])
plt.title('Rating Distribution')
plt.xlabel('Rating')
plt.ylabel('Counts')
plt.show()


df.head()


plt.figure(figsize=(10, 6))
sns.countplot(x=df['approx_cost(for two people)'],hue = df['approx_cost(for two people)'],data = df, palette='Set1',legend = False)
plt.title("Most Daily spend that couple make on order")
plt.show()


plt.figure(figsize = (6,6))
sns.boxplot(x='online_order', y = 'rate', data = df,palette='Set2',hue = 'online_order')
plt.xticks([0, 1], ['Online', 'Offline'])
plt.title('Rating on Online and Offline')
plt.show()


pivot_table = df.pivot_table(index = 'listed_in(type)', columns = 'online_order', aggfunc = 'size', fill_value=0)
sns.heatmap(pivot_table, annot = True , cmap = "YlGnBu", fmt = 'd')
plt.title('Heatmap')
plt.xlabel('Online_Order')
plt.ylabel('Listed in (type)')
plt.show()


df_grouped = df.groupby(['listed_in(type)', 'online_order']).size().reset_index(name='count')

sns.barplot(data=df_grouped, x='listed_in(type)', y='count', hue='online_order', palette='Set2')
plt.xticks(rotation=45)
plt.title("Online Order Availability by Restaurant Type")
plt.tight_layout()
plt.show()


df_grouped



