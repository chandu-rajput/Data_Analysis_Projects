import pandas as pd

import plotly.express as px                # Quick & high-level charting
import plotly.graph_objects as go          # Full control & advanced customization
import plotly.io as pio                    # Templates, saving, exporting
import plotly.colors as colors             # Custom color palettes and color scales
pio.templates.default = "plotly_white"     # Set default chart theme as "white"


data = pd.read_csv("Sample - Superstore.csv", encoding = 'latin-1') 


data.head()


data.describe()


data.info()





data[['Order Date','Ship Date']] = data[['Order Date','Ship Date']].apply(pd.to_datetime)


data.info()





data['Order month'] = data['Order Date'].dt.month
data['Order year'] = data['Order Date'].dt.year
data['Order day of week'] = data['Order Date'].dt.dayofweek
#data['Order day of week'] = data['Order Date'].dt.day_name()                              # this gives you Day Name like (monday,tuesday)


data.head()





sales_by_month = data.groupby('Order month')['Sales'].sum().reset_index()


sales_by_month


fig = px.line(sales_by_month,
              x = 'Order month',
              y = 'Sales',
              title = 'Monthly Sales Analysis',)

fig.update_layout(width = 900, height = 500)
fig.update_traces(line=dict(color='#1f77b4'))

fig.show()





# using values to convert all coulumn values into a array, useing "ravel" to flatten 2d array into a 1d array, using unique to only unique item from array
# if you only has 1 column then you don't need to use "values and ravel" 


all_unique = pd.unique(data['Category'].values.ravel())
print(all_unique)


# i am reset_index 2 times because 1 time for making "category" it conver index to columns,   2 time for makind index number into proper order


sales_by_category = data.groupby('Category')['Sales'].sum().reset_index().sort_values(by='Sales',ascending=False).reset_index(drop=True)


sales_by_category 


fig = px.pie(sales_by_category,
             values='Sales',
             names = 'Category',
             #hole = 0.4,
             color_discrete_sequence = px.colors.qualitative.Pastel)

fig.update_traces(textposition='inside', textinfo='percent+label')
fig.update_layout(title_text = 'Sales Analysis by Category',
                  title_font = dict(size=24, family='Arial', color='black'),
                  width = 600, height = 500)

fig.show()





sub_unique = pd.unique(data['Sub-Category'])
print(sub_unique)


sales_by_sub_category = data.groupby('Sub-Category')['Sales'].sum().reset_index().sort_values(by='Sales', ascending=False).reset_index(drop=True)


sales_by_sub_category


custom_colors_16 = [
    '#636EFA',  # Blue
    '#EF553B',  # Red-Orange
    '#00CC96',  # Green
    '#AB63FA',  # Purple
    '#FFA15A',  # Light Orange
    '#19D3F3',  # Light Blue
    '#FF6692',  # Pink
    '#B6E880',  # Light Green
    '#FF97FF',  # Magenta
    '#FECB52',  # Yellow
    '#A9A9A9',  # Gray
    '#D2691E',  # Chocolate
    '#1F77B4',  # Steel Blue
    '#9467BD',  # Violet
    '#8C564B',  # Brown
    '#E377C2'   # Bright Pink
]


fig = px.bar(sales_by_sub_category,
             x = 'Sub-Category',
             y = 'Sales',
             color = 'Sub-Category',
             color_discrete_sequence = custom_colors_16)

fig.update_layout(showlegend = False,
                 width = 1500, height = 600,
                 title = {
                     'text': 'Sales Analysis by Sub Category',
                     'x' : 0.5,
                     'xanchor' : 'center',
                     'font': {
                         'size' : 24, 'color': 'black' # 'family': 'Arial Black'
                     }
                       }
                 )

fig.show()





profit_by_month = data.groupby('Order month')['Profit'].sum().reset_index()


profit_by_month


fig = px.bar(profit_by_month,
             x = 'Order month',
             y = 'Profit',
             title = 'Montly Profit Analysis',
             color_discrete_sequence = ['#1f77b4'])

fig.update_layout(width = 800, height = 600)

fig.show()





profit_by_category = data.groupby('Category')['Profit'].sum().reset_index().sort_values(by='Profit',ascending=False).reset_index(drop=True)


profit_by_category


fig = px.pie(profit_by_category,
             values = 'Profit',
             names = 'Category',
             #hole = 0.1,
             color_discrete_sequence = px.colors.qualitative.Pastel)

fig.update_traces(textposition = 'inside', textinfo = 'percent+label')
fig.update_layout(title_text = 'Profit Analysis by Category',
                  title_font = dict(size = 24),
                  width = 600, height = 500)

fig.show()





profit_by_sub_category = data.groupby('Sub-Category')['Profit'].sum().reset_index().sort_values(by='Profit',ascending=False).reset_index(drop=True)


profit_by_sub_category


fig = px.bar(profit_by_sub_category,
             x = 'Sub-Category',
             y = 'Profit',
             color = 'Sub-Category',
             color_discrete_sequence = custom_colors_16)

fig.update_layout(title_text = 'Profit Analysis by Sub-Category',
                  title_font = dict(size = 24),
                  width = 1000, height = 600)

fig.show()





sales_profit_by_segment = data.groupby('Segment').agg({'Sales' : 'sum', 'Profit': 'sum'}).reset_index()


sales_profit_by_segment


color_palette = colors.qualitative.Pastel

fig = go.Figure()
fig.add_trace(go.Bar(x=sales_profit_by_segment['Segment'],
                     y=sales_profit_by_segment['Sales'],
                     name = 'Sales',
                     marker_color = color_palette[0]))

fig.add_trace(go.Bar(x=sales_profit_by_segment['Segment'],
                     y=sales_profit_by_segment['Profit'],
                     name = 'Profit',
                     marker_color = color_palette[1]))

fig.update_layout(title = 'Sales and Profit Analysis by Customer Segment',
                  xaxis_title = 'Customer Segment', yaxis_title = 'Amount')

fig.show()





sales_profit_by_segment = data.groupby('Segment').agg({'Sales': 'sum', 'Profit': 'sum'}).reset_index()
sales_profit_by_segment['Profit_to_Sales_Ratio'] = sales_profit_by_segment['Profit'] / sales_profit_by_segment['Sales']
print(sales_profit_by_segment[['Segment', 'Profit_to_Sales_Ratio']])


fig = px.bar(sales_profit_by_segment,
       x = 'Segment',
       y = 'Profit_to_Sales_Ratio',
       color = 'Segment',
       color_discrete_sequence = colors.qualitative.Set2) 

fig.update_layout(
    width = 800,
    height = 500,
    xaxis_title = 'Segment',
    yaxis_title = 'Profit to Sales Ratio',
    title = {
        'text': 'Profit to Sales Ratio',
        'x': 0.5,
        'xanchor': 'center'
    }
)

fig.show()






