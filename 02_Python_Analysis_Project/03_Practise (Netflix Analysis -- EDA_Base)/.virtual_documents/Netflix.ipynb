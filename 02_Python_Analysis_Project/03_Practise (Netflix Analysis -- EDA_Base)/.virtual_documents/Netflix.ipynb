import numpy as np
import pandas as pd
import matplotlib.pyplot as plt
import seaborn as sns


df = pd.read_csv('mymoviedb.csv', lineterminator = '\n')


df.head()


df.info()


df['Genre'].head()


df.duplicated().sum()


df.describe()





df['Release_Date'] = pd.to_datetime(df['Release_Date'])

print(df['Release_Date'].dtypes)


df['Release_Date'] = df['Release_Date'].dt.year

df['Release_Date'].dtypes


df.head()





cols = ['Overview', 'Original_Language', 'Poster_Url']


df.drop(cols, axis = 1, inplace = True)


df.head()





def categorize_col(df, col, labels):
    
    edges = [df[col].describe()['min'],
            df[col].describe()['25%'],
            df[col].describe()['50%'],
            df[col].describe()['75%'],
            df[col].describe()['max']]

    df[col] = pd.cut(df[col], edges, labels = labels, duplicates = 'drop')
    return df


labels = ['not_popular', 'below_avg', 'average', 'popular']

categorize_col(df, 'Vote_Average', labels)

df['Vote_Average'].unique()


df.head()


df['Vote_Average'].value_counts()


df.isna().sum()         # is there any null value 


df.dropna(inplace=True)    # Drop all null values
df.isna().sum()





df['Genre'] = df['Genre'].str.split(', ')

df = df.explode('Genre').reset_index(drop = True)
df.head()

# If a movie has multiple genres, using explode() allows you to analyze each genre individually 
# — like counting how many "Action" movies there are, even if some movies have multiple genres.


df['Genre'] = df['Genre'].astype('category')

df['Genre'].dtypes





sns.set_style('whitegrid')





df['Genre'].describe()


sns.catplot(y = 'Genre', data = df, kind = 'count',
            order = df['Genre'].value_counts().index,
            color = '#4287f5')

plt.title('Genre column distribution')
plt.show()





df.head()


sns.catplot(y = 'Vote_Average', data = df, kind = 'count',
            order = df['Vote_Average']. value_counts().index,
            color = '#4287f5',
            height = 5,
            aspect = 1.5)

plt.title('Votes distribution')
plt.show()





df[df['Popularity'] == df['Popularity'].max()]





df[df['Popularity'] == df['Popularity'].min()]





df['Release_Date'].his()
plt.title('Realese Date column distribution')
plt.show()



