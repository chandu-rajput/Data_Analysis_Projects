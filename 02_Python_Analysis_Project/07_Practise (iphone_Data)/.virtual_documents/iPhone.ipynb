import pandas as pd
import numpy as np
import plotly.express as px
import plotly.graph_objects as go


data = pd.read_csv("apple_products.csv")


data


data.isnull().sum()





data.describe()





data.head()


top_10_iphones = data.sort_values(by = "Star Rating", ascending = False).head(10).reset_index()


top_10_iphones[['Product Name', 'Star Rating']]





fig = px.bar(
    top_10_iphones,
    x = 'Product Name',
    y = 'Number Of Ratings',
    orientation = 'v',
    title = 'Top 10 Highest-Rated iPhones and Their Rating Counts',
    color = 'Number Of Ratings',
    color_continuous_scale='viridis'
)

fig.update_layout(
    xaxis_title = 'Product Name',
    yaxis_title = 'Number of Rating',
    template = 'plotly_white',
    height = 700,
)

fig.show()





top_10_iphones


fig = px.bar(
    top_10_iphones,
    x = 'Product Name',
    y = 'Number Of Reviews',
    orientation = 'v',
    title = 'Top 10 Highest-Rated iPhones and Their Reviews Counts',
    color = 'Number Of Reviews',
    color_continuous_scale = 'viridis'
)

fig.update_layout(
    xaxis_title = 'Product Name',
    yaxis_title = 'Number of Reviews',
    template = 'plotly_white',
    height = 700,
)

fig.show()





data.head()


fig = px.scatter(
    data,
    x = 'Sale Price',
    y = 'Number Of Ratings',
    size = 'Discount Percentage',
    trendline = 'ols',
    title = 'Relationship between Sale Price and Number of Ratings of iPhones',
    template='plotly_white',
)

fig.update_layout(
    height = 700,
    width = 1000,
)

fig.show()








data.head()


fig = px.scatter(
    data,
    x = 'Discount Percentage',
    y = 'Number Of Ratings',
    hover_name = 'Product Name',
    size = 'Number Of Ratings',
    trendline = 'ols',
    title = 'Realtionship Between Discount and Number of Ratings',
    template='plotly_white',
)
fig.update_layout(
    height = 700,
)

fig.show()








most_expensive = data.loc[data['Sale Price'].idxmax()]
least_expensice = data.loc[data['Sale Price'].idxmin()]

print('Most Expensive Product')
print(most_expensive)

print('\nLeast Expensive Product')
print(least_expensice)


most_expensive



