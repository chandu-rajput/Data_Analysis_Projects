import numpy as np
import pandas as pd
import matplotlib.pyplot as plt
import seaborn as sns


df = pd.read_csv("Airbnb_data.csv", encoding = "utf-8")


df.head()


df.columns





df.isnull().sum()


df.info()





df['last review'] = pd.to_datetime(df['last review'], errors = 'coerce')


df.info()


df.fillna({'reviews per month' : 0, 'last review' : df['last review'].min()}, inplace = True)


df.dropna(subset = ['NAME', 'host name'], inplace = True)


df.isnull().sum()


df = df.drop(columns=['license', 'house_rules'], errors='ignore')


df.head()


df['price'] = df['price'].replace('[\$,]', '',regex = True).astype(float)
df['service fee'] = df['service fee'].replace('[\$,]', '', regex = True).astype(float)


df.head()





df.drop_duplicates(inplace = True)


df.info()





df.describe()








#df.head()


plt.figure(figsize = (10,6))
sns.histplot(df['price'], bins = 50, kde = True, color = 'hotpink')
plt.title('Distribution of listing price')
plt.xlabel('price $')
plt.ylabel('Frequency')
plt.show()








df['room type']


plt.figure(figsize = (8,5))
sns.countplot(x = 'room type', data = df, color = 'hotpink')
plt.title('Room type Distribution')
plt.xlabel('Room type')
plt.ylabel('Count')
plt.show()





plt.figure(figsize = (12,8))
sns.countplot(y = 'neighbourhood group', data = df, color = 'lightgreen', order = df['neighbourhood group'].value_counts().index)
plt.title('Number of Listings by Neighborhood Group')
plt.xlabel('Count')
plt.ylabel('Neighborhood group')
plt.show()





plt.figure(figsize= (10,6))
sns.boxplot(x = 'room type', y = 'price', hue = 'room type', data = df, palette='Set1')
plt.title('Price vs Room Type')
plt.xlabel('Room type')
plt.ylabel('Price ($)')
plt.show()








reviews_over_time = df.groupby(df['last review'].dt.to_period('M')).size()

plt.figure(figsize = (12,6))
reviews_over_time.plot(kind = 'line', color='red')
plt.title('Number of Reviews Over Time')
plt.xlabel("Date")
plt.ylabel("Numbers of Reviews")
plt.show()      









