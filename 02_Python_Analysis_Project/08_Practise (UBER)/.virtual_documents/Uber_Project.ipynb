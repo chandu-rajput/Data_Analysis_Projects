import pandas as pd
import numpy as np
import matplotlib.pyplot as plt
import seaborn as sns


df = pd.read_csv("Uber_Dataset.csv")


df


df.shape


df.info()





df.fillna({'PURPOSE':"NOT"}, inplace = True) # This is the new method 3.0

# df['PURPOSE'].fillna("NOT", inplace = True) this is the method we use in prvious version


df.head()


df['START_DATE'] = pd.to_datetime(df['START_DATE'], errors = 'coerce')

df['END_DATE'] = pd.to_datetime(df['END_DATE'], errors = 'coerce')

# COERCE is use to if there is incorrect date then there it will set 'NAT'


df.info()


from datetime import datetime

df['date'] = pd.DatetimeIndex(df['START_DATE']).date
df['time'] = pd.DatetimeIndex(df['START_DATE']).hour


df.head()


df['day-night'] = pd.cut(x=df['time'],bins = [0,10,15,19,24], labels = ['Morning', 'Afternoon', 'Evening', 'Night'])


df.head()


df.dropna(inplace=True)


df.info()








plt.figure(figsize=(20,5))

plt.subplot(1,2,1)
plt.title('Categroy Wise Ubers Counts')
sns.countplot(df['CATEGORY'])


plt.subplot(1,2,2)
plt.title('Purpose Wise Ubers Counts')
sns.countplot(df['PURPOSE'])

plt.tight_layout()








sns.countplot(df['day-night'])
plt.title('Day-Period Wise Ubers Counts')
plt.show()








df['MONTH'] = pd.to_datetime(df['date']).dt.strftime('%b')    # to change month number into string format 1 to january you can use "dt.strftime('%b') for it


df.head()


Date_miles = df.groupby("MONTH", sort=False)['MILES'].max().reset_index()


Date_miles


p = sns.lineplot(data = Date_miles, x="MONTH", y="MILES")
plt.title('Total Miles per Month Uber cover')
p.set(xlabel = "MONTH", ylabel = "Value Count")
plt.show()








df['Day'] = pd.to_datetime(df['date']).dt.strftime('%a')


df.head()


days_count =  df.Day.value_counts().reset_index()


days_count


sns.barplot(data = days_count,x='Day', y='count')
plt.title('Day-Wise Uber Count')
plt.show()








sns.boxplot(df['MILES'])
plt.show()


sns.displot(df[df['MILES']<100]['MILES'])
plt.show()






